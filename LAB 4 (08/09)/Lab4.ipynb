{
  "nbformat": 4,
  "nbformat_minor": 0,
  "metadata": {
    "colab": {
      "provenance": [],
      "authorship_tag": "ABX9TyP/UlOViKeCQ4A1gIOteXka",
      "include_colab_link": true
    },
    "kernelspec": {
      "name": "python3",
      "display_name": "Python 3"
    },
    "language_info": {
      "name": "python"
    }
  },
  "cells": [
    {
      "cell_type": "markdown",
      "metadata": {
        "id": "view-in-github",
        "colab_type": "text"
      },
      "source": [
        "<a href=\"https://colab.research.google.com/github/Jhustine-Bron/CPE-201L-DSA-2-A/blob/main/Lab4.ipynb\" target=\"_parent\"><img src=\"https://colab.research.google.com/assets/colab-badge.svg\" alt=\"Open In Colab\"/></a>"
      ]
    },
    {
      "cell_type": "code",
      "source": [
        "class Fruit:\n",
        "    def __init__(self, name, price, quantity):\n",
        "        self.name = name\n",
        "        self.price = price\n",
        "        self.quantity = quantity\n",
        "\n",
        "    def __del__(self):\n",
        "        pass\n",
        "\n",
        "    def copy(self):\n",
        "        return Fruit(self.name, self.price, self.quantity)\n",
        "\n",
        "    def calculate_sum(self):\n",
        "        return self.price * self.quantity\n",
        "\n",
        "class Vegetable:\n",
        "    def __init__(self, name, price, quantity):\n",
        "        self.name = name\n",
        "        self.price = price\n",
        "        self.quantity = quantity\n",
        "\n",
        "    def __del__(self):\n",
        "        pass\n",
        "\n",
        "    def copy(self):\n",
        "        return Vegetable(self.name, self.price, self.quantity)\n",
        "\n",
        "    def calculate_sum(self):\n",
        "        return self.price * self.quantity\n",
        "\n",
        "def TotalSum(grocery_list):\n",
        "    return sum(item.calculate_sum() for item in grocery_list)\n",
        "\n",
        "GroceryList = [\n",
        "    Fruit(\"Apple\", 10, 7),\n",
        "    Fruit(\"Banana\", 10, 8),\n",
        "    Vegetable(\"Broccoli\", 60, 12),\n",
        "    Vegetable(\"Lettuce\", 50, 10)\n",
        "]\n",
        "\n",
        "print(\"Jenna's Grocery List\\n\")\n",
        "for item in GroceryList:\n",
        "    print(f\"{item.name}: PHP {item.price} x {item.quantity} = PHP {item.calculate_sum()}\")\n",
        "\n",
        "print(f\"\\nTotal: PHP {TotalSum(GroceryList)}\")\n",
        "\n",
        "print(\"\\nRemoving Lettuce:\")\n",
        "for item in GroceryList:\n",
        "    if item.name == \"Lettuce\":\n",
        "        print(f\"Destructor called for {item.name}\")\n",
        "        GroceryList.remove(item)\n",
        "        break\n",
        "print(f\"After removing the Lettuce using destructor: PHP {TotalSum(GroceryList)}\")"
      ],
      "metadata": {
        "colab": {
          "base_uri": "https://localhost:8080/"
        },
        "id": "DSLw8T432UPb",
        "outputId": "0eeffb3e-a127-458a-b6d6-3f83e5a521ad"
      },
      "execution_count": null,
      "outputs": [
        {
          "output_type": "stream",
          "name": "stdout",
          "text": [
            "Jenna's Grocery List\n",
            "\n",
            "Apple: PHP 10 x 7 = PHP 70\n",
            "Banana: PHP 10 x 8 = PHP 80\n",
            "Broccoli: PHP 60 x 12 = PHP 720\n",
            "Lettuce: PHP 50 x 10 = PHP 500\n",
            "\n",
            "Total: PHP 1370\n",
            "\n",
            "Removing Lettuce:\n",
            "Destructor called for Lettuce\n",
            "After removing the Lettuce using destructor: PHP 870\n"
          ]
        }
      ]
    },
    {
      "cell_type": "code",
      "source": [
        "print(\"\\nDemonstrating Copy Method:\")\n",
        "original_apple = GroceryList[0]\n",
        "copied_apple = original_apple.copy()\n",
        "\n",
        "print(f\"Original Apple: {original_apple.name}, Price: {original_apple.price}, Quantity: {original_apple.quantity}\")\n",
        "print(f\"Copied Apple: {copied_apple.name}, Price: {copied_apple.price}, Quantity: {copied_apple.quantity}\")"
      ],
      "metadata": {
        "colab": {
          "base_uri": "https://localhost:8080/"
        },
        "id": "vWfuRGzJ_eVb",
        "outputId": "3d1ac662-d9e4-4bd9-ff18-e27120a10273"
      },
      "execution_count": null,
      "outputs": [
        {
          "output_type": "stream",
          "name": "stdout",
          "text": [
            "\n",
            "Demonstrating Copy Method:\n",
            "Original Apple: Apple, Price: 10, Quantity: 7\n",
            "Copied Apple: Apple, Price: 10, Quantity: 7\n"
          ]
        }
      ]
    }
  ]
}