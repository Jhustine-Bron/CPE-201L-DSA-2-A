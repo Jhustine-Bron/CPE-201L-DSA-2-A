{
  "nbformat": 4,
  "nbformat_minor": 0,
  "metadata": {
    "colab": {
      "provenance": [],
      "authorship_tag": "ABX9TyNDZSWpcBbi59thgjiX5TvT",
      "include_colab_link": true
    },
    "kernelspec": {
      "name": "python3",
      "display_name": "Python 3"
    },
    "language_info": {
      "name": "python"
    }
  },
  "cells": [
    {
      "cell_type": "markdown",
      "metadata": {
        "id": "view-in-github",
        "colab_type": "text"
      },
      "source": [
        "<a href=\"https://colab.research.google.com/github/Jhustine-Bron/CPE-201L-DSA-2-A/blob/main/Lab_6_(08_23).ipynb\" target=\"_parent\"><img src=\"https://colab.research.google.com/assets/colab-badge.svg\" alt=\"Open In Colab\"/></a>"
      ]
    },
    {
      "cell_type": "code",
      "execution_count": 6,
      "metadata": {
        "colab": {
          "base_uri": "https://localhost:8080/"
        },
        "id": "ZOuMkO48JKJ_",
        "outputId": "254d189a-15c4-4b4c-d1c6-501ea361ad4e"
      },
      "outputs": [
        {
          "output_type": "stream",
          "name": "stdout",
          "text": [
            "Prime numbers from 1-20:\n",
            "2 3 5 7 11 13 17 19 \n",
            "\n",
            "Head: 2\n",
            "Tail: 19\n"
          ]
        }
      ],
      "source": [
        "class Node:\n",
        "    def __init__(self, data):\n",
        "        self.data = data\n",
        "        self.next = None\n",
        "\n",
        "class LinkedList:\n",
        "    def __init__(self):\n",
        "        self.head = None\n",
        "        self.tail = None\n",
        "\n",
        "    def append(self, data):\n",
        "        nnode = Node(data)\n",
        "        if self.head is None:\n",
        "            self.head = nnode\n",
        "            self.tail = nnode\n",
        "        else:\n",
        "            self.tail.next = nnode\n",
        "            self.tail = nnode\n",
        "\n",
        "    def display(self):\n",
        "        current = self.head\n",
        "        while current:\n",
        "            print(current.data, end=\" \")\n",
        "            current = current.next\n",
        "        print()\n",
        "\n",
        "def is_prime(Number):\n",
        "    if Number < 2:\n",
        "        return False\n",
        "    for i in range(2, int(Number**0.5) + 1):\n",
        "        if Number % i == 0:\n",
        "            return False\n",
        "    return True\n",
        "\n",
        "LiLi = LinkedList()\n",
        "\n",
        "for i in range(20):\n",
        "    if is_prime(i):\n",
        "        LiLi.append(i)\n",
        "\n",
        "print(\"Prime numbers from 1-20:\")\n",
        "LiLi.display()\n",
        "\n",
        "print(\"\\nHead:\", LiLi.head.data)\n",
        "print(\"Tail:\", LiLi.tail.data)"
      ]
    }
  ]
}