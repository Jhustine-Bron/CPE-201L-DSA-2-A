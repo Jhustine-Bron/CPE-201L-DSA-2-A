{
  "nbformat": 4,
  "nbformat_minor": 0,
  "metadata": {
    "colab": {
      "provenance": [],
      "authorship_tag": "ABX9TyNWDl2Jnf3D6WkUTMbhoGT9",
      "include_colab_link": true
    },
    "kernelspec": {
      "name": "python3",
      "display_name": "Python 3"
    },
    "language_info": {
      "name": "python"
    }
  },
  "cells": [
    {
      "cell_type": "markdown",
      "metadata": {
        "id": "view-in-github",
        "colab_type": "text"
      },
      "source": [
        "<a href=\"https://colab.research.google.com/github/Jhustine-Bron/CPE-201L-DSA-2-A/blob/main/Quiz_1_(Skill_Test).ipynb\" target=\"_parent\"><img src=\"https://colab.research.google.com/assets/colab-badge.svg\" alt=\"Open In Colab\"/></a>"
      ]
    },
    {
      "cell_type": "code",
      "execution_count": 12,
      "metadata": {
        "colab": {
          "base_uri": "https://localhost:8080/"
        },
        "id": "dzDuiaCH5Rem",
        "outputId": "a1a123ca-71ba-4752-d948-78fbfec88f53"
      },
      "outputs": [
        {
          "output_type": "stream",
          "name": "stdout",
          "text": [
            "-------||LINKED LIST||--------\n",
            "Enter your name: Jhustine Acera Bron\n",
            "\n",
            "Traversed name: \n",
            "J --> h --> u --> s --> t --> i --> n --> e -->   --> A --> c --> e --> r --> a -->   --> B --> r --> o --> n --> None\n"
          ]
        }
      ],
      "source": [
        "class Node:\n",
        "    def __init__(self, data):\n",
        "        self.data = data\n",
        "        self.next = None\n",
        "\n",
        "class LinkedList:\n",
        "    def __init__(self):\n",
        "        self.head = None\n",
        "\n",
        "    def display(self):\n",
        "        current = self.head\n",
        "        while current:\n",
        "            print(current.data, end=\" --> \")\n",
        "            current = current.next\n",
        "        print(\"None\")\n",
        "\n",
        "    def append(self, data):\n",
        "        new_node = Node(data)\n",
        "        if not self.head:\n",
        "            self.head = new_node\n",
        "            return\n",
        "        current = self.head\n",
        "        while current.next:\n",
        "            current = current.next\n",
        "        current.next = new_node\n",
        "\n",
        "print (\"-------||LINKED LIST||--------\")\n",
        "if __name__ == '__main__':\n",
        "    name = LinkedList()\n",
        "    user = input(\"Enter your name: \")\n",
        "\n",
        "    print(\"\\nTraversed name: \")\n",
        "    for character in user:\n",
        "        name.append(character)\n",
        "    name.display()\n"
      ]
    }
  ]
}