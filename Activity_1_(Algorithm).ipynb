{
  "nbformat": 4,
  "nbformat_minor": 0,
  "metadata": {
    "colab": {
      "provenance": [],
      "authorship_tag": "ABX9TyP6PwGID9UCBvCYFGyMsj+t",
      "include_colab_link": true
    },
    "kernelspec": {
      "name": "python3",
      "display_name": "Python 3"
    },
    "language_info": {
      "name": "python"
    }
  },
  "cells": [
    {
      "cell_type": "markdown",
      "metadata": {
        "id": "view-in-github",
        "colab_type": "text"
      },
      "source": [
        "<a href=\"https://colab.research.google.com/github/Jhustine-Bron/CPE-201L-DSA-2-A/blob/main/Activity_1_(Algorithm).ipynb\" target=\"_parent\"><img src=\"https://colab.research.google.com/assets/colab-badge.svg\" alt=\"Open In Colab\"/></a>"
      ]
    },
    {
      "cell_type": "code",
      "execution_count": 79,
      "metadata": {
        "colab": {
          "base_uri": "https://localhost:8080/"
        },
        "id": "JIAxJoSmykTx",
        "outputId": "a01907a4-4c59-44f3-bc92-a728bcff2be5"
      },
      "outputs": [
        {
          "output_type": "stream",
          "name": "stdout",
          "text": [
            "Area of a Circle\n",
            "|-----------------------------------------|\n",
            "Radius or Diameter?\n",
            "  Given: Radius\n",
            "  Input the Radius: 4\n",
            "|-----------------------------------------|\n",
            "| Area of the Circle: 50.26548245743669\n",
            "|-----------------------------------------|\n"
          ]
        }
      ],
      "source": [
        "import math\n",
        "\n",
        "print (\"Area of a Circle\")\n",
        "print(\"|-----------------------------------------|\")\n",
        "print (\"Radius or Diameter?\")\n",
        "given = str(input(\"  Given: \"))\n",
        "\n",
        "if given == \"Radius\":\n",
        "    radius = float(input(\"  Input the Radius: \"))\n",
        "    Area = math.pi * (radius ** 2)\n",
        "    print(\"|-----------------------------------------|\")\n",
        "    print (\"| Area of the Circle:\", Area)\n",
        "    print(\"|-----------------------------------------|\")\n",
        "elif given == \"Diameter\":\n",
        "    diameter = float(input(\"  Input the Diameter: \"))\n",
        "    Area = math.pi * (diameter/2) ** 2\n",
        "    print(\"|-----------------------------------------|\")\n",
        "    print (\"| Area of the Circle:\", Area)\n",
        "    print(\"|-----------------------------------------|\")\n",
        "else:\n",
        "    print(\"|-----------------------------------------|\")\n",
        "    print (\"| Invalid Input\")\n",
        "    print(\"|-----------------------------------------|\")"
      ]
    }
  ]
}