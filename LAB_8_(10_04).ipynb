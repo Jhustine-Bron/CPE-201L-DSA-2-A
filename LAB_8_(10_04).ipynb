{
  "nbformat": 4,
  "nbformat_minor": 0,
  "metadata": {
    "colab": {
      "provenance": [],
      "authorship_tag": "ABX9TyOD8ADXZyZ3D1t8TFSBTpAb",
      "include_colab_link": true
    },
    "kernelspec": {
      "name": "python3",
      "display_name": "Python 3"
    },
    "language_info": {
      "name": "python"
    }
  },
  "cells": [
    {
      "cell_type": "markdown",
      "metadata": {
        "id": "view-in-github",
        "colab_type": "text"
      },
      "source": [
        "<a href=\"https://colab.research.google.com/github/Jhustine-Bron/CPE-201L-DSA-2-A/blob/main/LAB_8_(10_04).ipynb\" target=\"_parent\"><img src=\"https://colab.research.google.com/assets/colab-badge.svg\" alt=\"Open In Colab\"/></a>"
      ]
    },
    {
      "cell_type": "code",
      "execution_count": 15,
      "metadata": {
        "colab": {
          "base_uri": "https://localhost:8080/"
        },
        "id": "2uu7WVf0apXl",
        "outputId": "3554b19a-9ed6-411d-9b78-d91906fd348d"
      },
      "outputs": [
        {
          "output_type": "stream",
          "name": "stdout",
          "text": [
            "Pushed Element: 1\n",
            "Pushed Element: 2\n",
            "Pushed Element: 3\n",
            "Pushed Element: 4\n",
            "Pushed Element: 5\n",
            "Length of the stack:  5\n",
            "The elements in the stack are:['1', '2', '3', '4', '5']\n",
            "\n",
            "Popping elements\n",
            "\n",
            "Popped Element:  5\n",
            "Popped Element:  4\n",
            "Popped Element:  3\n",
            "The elements in the stack are:['1', '2']\n"
          ]
        }
      ],
      "source": [
        "\n",
        "def create_stack():\n",
        "    stack = []\n",
        "    return stack\n",
        "\n",
        "def is_empty(stack):\n",
        "    return len(stack) == 0\n",
        "\n",
        "def push(stack, item):\n",
        "    stack.append(item)\n",
        "    print(\"Pushed Element: \" + item)\n",
        "\n",
        "def pop(stack):\n",
        "    if (is_empty(stack)):\n",
        "        return \"The stack is empty\"\n",
        "    return stack.pop()\n",
        "\n",
        "def length(stack):\n",
        "    if (is_empty(stack)):\n",
        "        return \"The stack is empty\"\n",
        "    return len(stack)\n",
        "\n",
        "\n",
        "stack = create_stack()\n",
        "push(stack, str(1))\n",
        "push(stack, str(2))\n",
        "push(stack, str(3))\n",
        "push(stack, str(4))\n",
        "push(stack, str(5))\n",
        "\n",
        "\n",
        "print(\"Length of the stack: \", len(stack))\n",
        "print(\"The elements in the stack are:\"+ str(stack))\n",
        "\n",
        "print(\"\\nPopping elements\\n\")\n",
        "print(\"Popped Element: \", pop(stack))\n",
        "print(\"Popped Element: \", pop(stack))\n",
        "print(\"Popped Element: \", pop(stack))\n",
        "print(\"The elements in the stack are:\"+ str(stack))"
      ]
    }
  ]
}