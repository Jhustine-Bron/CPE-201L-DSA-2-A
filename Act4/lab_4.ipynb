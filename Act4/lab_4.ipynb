{
  "nbformat": 4,
  "nbformat_minor": 0,
  "metadata": {
    "colab": {
      "provenance": [],
      "authorship_tag": "ABX9TyOUVm+SXf9LK1Dc6dkxSn83",
      "include_colab_link": true
    },
    "kernelspec": {
      "name": "python3",
      "display_name": "Python 3"
    },
    "language_info": {
      "name": "python"
    }
  },
  "cells": [
    {
      "cell_type": "markdown",
      "metadata": {
        "id": "view-in-github",
        "colab_type": "text"
      },
      "source": [
        "<a href=\"https://colab.research.google.com/github/Jhustine-Bron/CPE-201L-DSA-2-A/blob/main/Act4/lab_4.ipynb\" target=\"_parent\"><img src=\"https://colab.research.google.com/assets/colab-badge.svg\" alt=\"Open In Colab\"/></a>"
      ]
    },
    {
      "cell_type": "code",
      "execution_count": 4,
      "metadata": {
        "id": "1r3a130KWpn_",
        "colab": {
          "base_uri": "https://localhost:8080/"
        },
        "outputId": "26c3a4f6-8e47-4d13-9245-303016c05fea"
      },
      "outputs": [
        {
          "output_type": "stream",
          "name": "stdout",
          "text": [
            "clear object: <__main__.Vegtable object at 0x7e4a477ac650>: lettuce, 50, 10\n",
            "clear object: <__main__.Vegtable object at 0x7e4a477aedd0>: broccoli, 60, 12\n",
            "clear object: <__main__.Fruit object at 0x7e4a477adf10>: banana, 10, 8\n",
            "clear object: <__main__.Fruit object at 0x7e4a47786ed0>: Apple, 10, 7\n",
            "Total Sum: 1370\n"
          ]
        }
      ],
      "source": [
        "class Item:\n",
        "    def __init__(self, name: str, price: int, quantity: int):\n",
        "        self.name = name\n",
        "        self.price = price\n",
        "        self.quantity = quantity\n",
        "\n",
        "    def __del__(self):\n",
        "        print(f\"clear object: {self}: {self.name}, {self.price}, {self.quantity}\")\n",
        "\n",
        "    def calculate_sum(self):\n",
        "        total_sum = self.price * self.quantity\n",
        "        return total_sum\n",
        "\n",
        "\n",
        "class Fruit(Item):\n",
        "    def __init__(self, name: str, price: int, quantity: int):\n",
        "        super().__init__(name, price, quantity)\n",
        "\n",
        "\n",
        "class Vegtable(Item):\n",
        "    def __init__(self, name: str, price: int, quantity: int):\n",
        "        super().__init__(name, price, quantity)\n",
        "\n",
        "\n",
        "apple = Fruit('Apple', 10, 7)\n",
        "banana = Fruit('banana', 10, 8)\n",
        "broccoli = Vegtable('broccoli', 60, 12)\n",
        "lettuce = Vegtable('lettuce', 50, 10)\n",
        "jennas_grocery_list = [apple, banana, broccoli, lettuce]\n",
        "\n",
        "def TotalSum(item_list: list[Item]):\n",
        "    total_sum = 0\n",
        "\n",
        "    for item in item_list:\n",
        "        if isinstance(item, Item):\n",
        "            total_sum += item.calculate_sum()\n",
        "            del item\n",
        "    print('Total Sum:', total_sum)\n",
        "\n",
        "TotalSum(jennas_grocery_list)"
      ]
    }
  ]
}