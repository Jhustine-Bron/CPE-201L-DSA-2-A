{
  "nbformat": 4,
  "nbformat_minor": 0,
  "metadata": {
    "colab": {
      "provenance": [],
      "authorship_tag": "ABX9TyOaV+iOgpYept4OyjPCsG9/",
      "include_colab_link": true
    },
    "kernelspec": {
      "name": "python3",
      "display_name": "Python 3"
    },
    "language_info": {
      "name": "python"
    }
  },
  "cells": [
    {
      "cell_type": "markdown",
      "metadata": {
        "id": "view-in-github",
        "colab_type": "text"
      },
      "source": [
        "<a href=\"https://colab.research.google.com/github/Jhustine-Bron/CPE-201L-DSA-2-A/blob/main/Midterm_TestSkill.ipynb\" target=\"_parent\"><img src=\"https://colab.research.google.com/assets/colab-badge.svg\" alt=\"Open In Colab\"/></a>"
      ]
    },
    {
      "cell_type": "code",
      "source": [
        "class Node:\n",
        "    def __init__(self, data):\n",
        "        self.data = data\n",
        "        self.next = None\n",
        "\n",
        "class LinkedList:\n",
        "    def __init__(self):\n",
        "        self.head = None\n",
        "\n",
        "    def display_all(self):\n",
        "        current = self.head\n",
        "        while current:\n",
        "            print(current.data, end=\" -> \")\n",
        "            current = current.next\n",
        "        print(\"None\")\n",
        "\n",
        "    def append(self, data):\n",
        "        new_node = Node(data)\n",
        "        if not self.head:\n",
        "            self.head = new_node\n",
        "            return\n",
        "        current = self.head\n",
        "        while current.next:\n",
        "            current = current.next\n",
        "        current.next = new_node\n",
        "\n",
        "    def delete(self, data):\n",
        "\n",
        "        if self.head is None:\n",
        "            print(\"Error\")\n",
        "            return\n",
        "\n",
        "        if self.head.data == data:\n",
        "            self.head = self.head.next\n",
        "            return\n",
        "\n",
        "        current = self.head\n",
        "        while current.next:\n",
        "            if current.next.data == data:\n",
        "                current.next = current.next.next\n",
        "                return\n",
        "            current = current.next\n",
        "        print(f\"Node with data {data} not found\")\n",
        "\n",
        "linked_list = LinkedList()\n",
        "\n",
        "linked_list.head =Node(1)\n",
        "second = Node(3)\n",
        "third = Node(5)\n",
        "fourth = Node(7)\n",
        "fifth = Node(9)\n",
        "sixth = Node(11)\n",
        "seventh = Node(13)\n",
        "eighth = Node(15)\n",
        "ninth = Node(17)\n",
        "tenth = Node(19)\n",
        "eleventh = Node(21)\n",
        "twelfth = Node(23)\n",
        "thirteenth = Node(25)\n",
        "fourteenth = Node(27)\n",
        "fifteenth = Node(29)\n",
        "\n",
        "linked_list.head.next = second\n",
        "second.next = third\n",
        "third.next = fourth\n",
        "fourth.next = fifth\n",
        "fifth.next = sixth\n",
        "sixth.next = seventh\n",
        "seventh.next = eighth\n",
        "eighth.next = ninth\n",
        "ninth.next = tenth\n",
        "tenth.next = eleventh\n",
        "eleventh.next = twelfth\n",
        "twelfth.next = thirteenth\n",
        "thirteenth.next = fourteenth\n",
        "fourteenth.next = fifteenth\n",
        "\n",
        "print(\"|----------------------|\")\n",
        "print(\"A. Display all data:\")\n",
        "linked_list.display_all()\n",
        "\n",
        "print(\"\\n|----------------------|\")\n",
        "print(\"B. Append a node:\")\n",
        "user_append = int(input(\"Enter a number: \"))\n",
        "linked_list.append(user_append)\n",
        "linked_list.display_all()\n",
        "\n",
        "print(\"\\n|----------------------|\")\n",
        "print(\"C. Delete a node:\")\n",
        "user_delete = int(input(\"Enter a number: \"))\n",
        "linked_list.delete(user_delete)\n",
        "linked_list.display_all()\n",
        "\n"
      ],
      "metadata": {
        "colab": {
          "base_uri": "https://localhost:8080/"
        },
        "id": "_jQozcXhBGl8",
        "outputId": "8e108f32-f630-4c7b-a3d0-a39090769050"
      },
      "execution_count": 12,
      "outputs": [
        {
          "output_type": "stream",
          "name": "stdout",
          "text": [
            "|----------------------|\n",
            "A. Display all data:\n",
            "1 -> 3 -> 5 -> 7 -> 9 -> 11 -> 13 -> 15 -> 17 -> 19 -> 21 -> 23 -> 25 -> 27 -> 29 -> None\n",
            "\n",
            "|----------------------|\n",
            "B. Append a node:\n",
            "Enter a number: 31\n",
            "1 -> 3 -> 5 -> 7 -> 9 -> 11 -> 13 -> 15 -> 17 -> 19 -> 21 -> 23 -> 25 -> 27 -> 29 -> 31 -> None\n",
            "\n",
            "|----------------------|\n",
            "C. Delete a node:\n",
            "Enter a number: 5\n",
            "1 -> 3 -> 7 -> 9 -> 11 -> 13 -> 15 -> 17 -> 19 -> 21 -> 23 -> 25 -> 27 -> 29 -> 31 -> None\n"
          ]
        }
      ]
    }
  ]
}