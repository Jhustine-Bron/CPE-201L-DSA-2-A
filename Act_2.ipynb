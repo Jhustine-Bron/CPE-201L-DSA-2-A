{
  "nbformat": 4,
  "nbformat_minor": 0,
  "metadata": {
    "colab": {
      "provenance": [],
      "authorship_tag": "ABX9TyO+gvB2UpGNUhSwo8lrQDQ0",
      "include_colab_link": true
    },
    "kernelspec": {
      "name": "python3",
      "display_name": "Python 3"
    },
    "language_info": {
      "name": "python"
    }
  },
  "cells": [
    {
      "cell_type": "markdown",
      "metadata": {
        "id": "view-in-github",
        "colab_type": "text"
      },
      "source": [
        "<a href=\"https://colab.research.google.com/github/Jhustine-Bron/CPE-201L-DSA-2-A/blob/main/Act_2.ipynb\" target=\"_parent\"><img src=\"https://colab.research.google.com/assets/colab-badge.svg\" alt=\"Open In Colab\"/></a>"
      ]
    },
    {
      "cell_type": "markdown",
      "source": [
        "C.\tWrite a short recursive Python function that finds the minimum and maximum values in a sequence without using any loops"
      ],
      "metadata": {
        "id": "3MYCPffDfIDm"
      }
    },
    {
      "cell_type": "code",
      "source": [
        "my_list = [34, 32, 143, 14, 1, 46, 547, 457, 445, 457, 544, 67]\n",
        "\n",
        "def min_max(list):\n",
        "  max_num = max(list)\n",
        "  min_num = min(list)\n",
        "\n",
        "  return (min_num, max_num)\n",
        "\n",
        "min_num, max_num = min_max(my_list)\n",
        "print(\"Min:\", min_num)\n",
        "print('Max:', max_num)"
      ],
      "metadata": {
        "colab": {
          "base_uri": "https://localhost:8080/"
        },
        "id": "5aQfuJF485Co",
        "outputId": "a9516cc6-b6a3-4e5a-85d1-59633c4169fd"
      },
      "execution_count": 2,
      "outputs": [
        {
          "output_type": "stream",
          "name": "stdout",
          "text": [
            "Min: 1\n",
            "Max: 547\n"
          ]
        }
      ]
    }
  ]
}