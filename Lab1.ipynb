{
  "nbformat": 4,
  "nbformat_minor": 0,
  "metadata": {
    "colab": {
      "provenance": [],
      "authorship_tag": "ABX9TyMyXvUapvXERb34tbFp1YOf",
      "include_colab_link": true
    },
    "kernelspec": {
      "name": "python3",
      "display_name": "Python 3"
    },
    "language_info": {
      "name": "python"
    }
  },
  "cells": [
    {
      "cell_type": "markdown",
      "metadata": {
        "id": "view-in-github",
        "colab_type": "text"
      },
      "source": [
        "<a href=\"https://colab.research.google.com/github/Jhustine-Bron/CPE-201L-DSA-2-A/blob/main/Lab1.ipynb\" target=\"_parent\"><img src=\"https://colab.research.google.com/assets/colab-badge.svg\" alt=\"Open In Colab\"/></a>"
      ]
    },
    {
      "cell_type": "code",
      "source": [
        "class Polygons:\n",
        "    def __init__(self, name, sides, area):\n",
        "        self.name = name\n",
        "        self.sides = sides\n",
        "        self.area = area\n",
        "\n",
        "    def set_name(self, name):\n",
        "        self.name = name\n",
        "\n",
        "    def set_sides(self, sides):\n",
        "        self.sides = sides\n",
        "\n",
        "    def set_area(self, area):\n",
        "        self.area = area\n",
        "\n",
        "    def get_name(self):\n",
        "        return self.name\n",
        "\n",
        "    def get_sides(self):\n",
        "        return self.sides\n",
        "\n",
        "    def get_area(self):\n",
        "        return self.area\n",
        "\n",
        "name = input(\"Enter polygon name: \")\n",
        "sides = int(input(\"Enter number of sides: \"))\n",
        "area = float(input(\"Enter area: \"))\n",
        "\n",
        "polygon = Polygons(name, sides, area)\n",
        "\n",
        "print(\"Name:\", polygon.get_name())\n",
        "print(\"Sides:\", polygon.get_sides())\n",
        "print(\"Area:\", polygon.get_area())"
      ],
      "metadata": {
        "colab": {
          "base_uri": "https://localhost:8080/"
        },
        "id": "8vrQNfIS-3HJ",
        "outputId": "570170fe-910d-4828-8869-e93aaa249f08"
      },
      "execution_count": 1,
      "outputs": [
        {
          "output_type": "stream",
          "name": "stdout",
          "text": [
            "Enter polygon name: Hexagon\n",
            "Enter number of sides: 6\n",
            "Enter area: 32\n",
            "Name: Hexagon\n",
            "Sides: 6\n",
            "Area: 32.0\n"
          ]
        }
      ]
    }
  ]
}