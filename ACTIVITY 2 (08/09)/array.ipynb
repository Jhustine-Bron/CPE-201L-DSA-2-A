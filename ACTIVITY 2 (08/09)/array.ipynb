{
  "nbformat": 4,
  "nbformat_minor": 0,
  "metadata": {
    "colab": {
      "provenance": [],
      "authorship_tag": "ABX9TyN9amf5H00WpGN3pX58hbp2",
      "include_colab_link": true
    },
    "kernelspec": {
      "name": "python3",
      "display_name": "Python 3"
    },
    "language_info": {
      "name": "python"
    }
  },
  "cells": [
    {
      "cell_type": "markdown",
      "metadata": {
        "id": "view-in-github",
        "colab_type": "text"
      },
      "source": [
        "<a href=\"https://colab.research.google.com/github/Jhustine-Bron/CPE-201L-DSA-2-A/blob/main/array.ipynb\" target=\"_parent\"><img src=\"https://colab.research.google.com/assets/colab-badge.svg\" alt=\"Open In Colab\"/></a>"
      ]
    },
    {
      "cell_type": "code",
      "execution_count": 2,
      "metadata": {
        "colab": {
          "base_uri": "https://localhost:8080/"
        },
        "id": "Ef86Y-7OUc4u",
        "outputId": "598df2f7-d520-4395-fa4e-1282e4b0a50e"
      },
      "outputs": [
        {
          "name": "stdout",
          "output_type": "stream",
          "text": [
            "Original array: [50, 20, 10, 30, 40]\n",
            "\n",
            "Menu:\n",
            "1.Traverse array\n",
            "2.Reverse array\n",
            "3.Sort array\n",
            "4.Insert array\n",
            "5.Delete array\n",
            "6.Modify array\n",
            "7.exit\n",
            "Enter your choice (1/2/3/4/5/6/7): 7\n"
          ]
        }
      ],
      "source": [
        "def traverse_array(arr):\n",
        "  \"\"\"Function to traverse and print all elements in the array\"\"\"\n",
        "  print(\"Traversing the array:\")\n",
        "  for i, element in enumerate(arr):\n",
        "      print(f\"Index {i}: {element}\")\n",
        "\n",
        "def reverse(arr):\n",
        "  \"\"\"Function to reverse the array\"\"\"\n",
        "  print(\"Reversing the array:\")\n",
        "  for i, element in enumerate(arr):\n",
        "    reversed_arr = arr[::-1]\n",
        "    print(f\"Index {i}: {element}\")\n",
        "\n",
        "def sort(arr):\n",
        "  \"\"\"Function to sort the array\"\"\"\n",
        "  print(\"Sorting the array:\")\n",
        "  arr.sort()\n",
        "  for i, element in enumerate(arr):\n",
        "    print(f\"Index {i}: {element}\")\n",
        "\n",
        "def insert(arr):\n",
        "  print(\"Inserting the array:\")\n",
        "  number = int(input(\"Enter a number: \"))\n",
        "  index = int(input(f\"Enter index between 0 to 4\"))\n",
        "  arr.insert(index, number)\n",
        "  for i, element in enumerate(arr):\n",
        "    print(f\"Index {i}: {element}\")\n",
        "\n",
        "def delete(arr):\n",
        "  print(\"Deleting the array:\")\n",
        "  number = int(input(\"Enter a number: \"))\n",
        "  arr.remove(number)\n",
        "  for i, element in enumerate(arr):\n",
        "    print(f\"Index {i}: {element}\")\n",
        "\n",
        "def modify(arr):\n",
        "  print(\"Modifying the array:\")\n",
        "  index = int(input(f\"Enter index:\"))\n",
        "  arr.pop(index)\n",
        "  number = int(input(\"Enter a number: \"))\n",
        "  arr.insert(index, number)\n",
        "  for i, element in enumerate(arr):\n",
        "    print(f\"Index {i}: {element}\")\n",
        "\n",
        "def main ():\n",
        "  arr = [50,20,10,30,40]\n",
        "  print(\"Original array:\", arr)\n",
        "\n",
        "  while True:\n",
        "    print(\"\\nMenu:\")\n",
        "    print(\"1.Traverse array\")\n",
        "    print(\"2.Reverse array\")\n",
        "    print(\"3.Sort array\")\n",
        "    print(\"4.Insert array\")\n",
        "    print(\"5.Delete array\")\n",
        "    print(\"6.Modify array\")\n",
        "    print(\"7.exit\")\n",
        "    choice = input(\"Enter your choice (1/2/3/4/5/6/7): \")\n",
        "\n",
        "    if choice == \"1\":\n",
        "      traverse_array(arr)\n",
        "    elif choice == \"2\":\n",
        "      reverse(arr)\n",
        "    elif choice == \"3\":\n",
        "      sort(arr)\n",
        "    elif choice == \"4\":\n",
        "      insert(arr)\n",
        "    elif choice == \"5\":\n",
        "      delete(arr)\n",
        "    elif choice == \"6\":\n",
        "      modify(arr)\n",
        "    elif choice == \"7\":\n",
        "      break\n",
        "\n",
        "if __name__ == \"__main__\":\n",
        "  main()\n"
      ]
    }
  ]
}