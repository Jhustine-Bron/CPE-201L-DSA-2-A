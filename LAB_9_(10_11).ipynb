{
  "nbformat": 4,
  "nbformat_minor": 0,
  "metadata": {
    "colab": {
      "provenance": [],
      "authorship_tag": "ABX9TyOiHh0KHTKo0dWuYJWWU83v",
      "include_colab_link": true
    },
    "kernelspec": {
      "name": "python3",
      "display_name": "Python 3"
    },
    "language_info": {
      "name": "python"
    }
  },
  "cells": [
    {
      "cell_type": "markdown",
      "metadata": {
        "id": "view-in-github",
        "colab_type": "text"
      },
      "source": [
        "<a href=\"https://colab.research.google.com/github/Jhustine-Bron/CPE-201L-DSA-2-A/blob/main/LAB_9_(10_11).ipynb\" target=\"_parent\"><img src=\"https://colab.research.google.com/assets/colab-badge.svg\" alt=\"Open In Colab\"/></a>"
      ]
    },
    {
      "cell_type": "code",
      "execution_count": 1,
      "metadata": {
        "colab": {
          "base_uri": "https://localhost:8080/"
        },
        "id": "RqMqMq_wkiqp",
        "outputId": "1843d386-1603-49d4-c119-20874d88d9cf"
      },
      "outputs": [
        {
          "output_type": "stream",
          "name": "stdout",
          "text": [
            "Enqueued Element: 1\n",
            "Enqueued Element: 2\n",
            "Enqueued Element: 3\n",
            "Enqueued Element: 4\n",
            "Enqueued Element: 5\n",
            "The elements in the queue are: ['1', '2', '3', '4', '5']\n",
            "Dequeued Element: 1\n",
            "Queue after one dequeue: ['2', '3', '4', '5']\n"
          ]
        }
      ],
      "source": [
        "\n",
        "def create_queue():\n",
        "    queue = []\n",
        "    return queue\n",
        "\n",
        "\n",
        "def is_empty(queue):\n",
        "    return len(queue) == 0\n",
        "\n",
        "\n",
        "def enqueue(queue, item):\n",
        "    queue.append(item)\n",
        "    print(\"Enqueued Element: \" + item)\n",
        "\n",
        "def dequeue(queue):\n",
        "    if is_empty(queue):\n",
        "        return \"The queue is empty\"\n",
        "    return queue.pop(0)\n",
        "\n",
        "def peek(queue):\n",
        "    if is_empty(queue):\n",
        "        return \"The queue is empty\"\n",
        "    return queue[0]\n",
        "\n",
        "queue = create_queue()\n",
        "enqueue(queue, str(1))\n",
        "enqueue(queue, str(2))\n",
        "enqueue(queue, str(3))\n",
        "enqueue(queue, str(4))\n",
        "enqueue(queue, str(5))\n",
        "\n",
        "print(\"The elements in the queue are: \" + str(queue))\n",
        "\n",
        "print(\"Dequeued Element: \" + dequeue(queue))\n",
        "print(\"Queue after one dequeue: \" + str(queue))\n"
      ]
    }
  ]
}